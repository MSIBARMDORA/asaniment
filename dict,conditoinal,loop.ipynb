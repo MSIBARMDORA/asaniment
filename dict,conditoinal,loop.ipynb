{
 "cells": [
  {
   "cell_type": "code",
   "execution_count": null,
   "id": "9c04a73e-ed01-4cc0-9b74-a7afc5d95789",
   "metadata": {},
   "outputs": [],
   "source": [
    "l=[1,\"ram\",2,3]"
   ]
  },
  {
   "cell_type": "code",
   "execution_count": null,
   "id": "17f859a5-f4ef-4bb2-8d6d-d846899a0e17",
   "metadata": {},
   "outputs": [
    {
     "data": {
      "text/plain": [
       "list"
      ]
     },
     "execution_count": 7,
     "metadata": {},
     "output_type": "execute_result"
    }
   ],
   "source": [
    "type(l)"
   ]
  },
  {
   "cell_type": "code",
   "execution_count": null,
   "id": "7bfed280-7a25-47d1-8b15-14c7e8705931",
   "metadata": {},
   "outputs": [
    {
     "name": "stdout",
     "output_type": "stream",
     "text": [
      "[1, 'ram', 2, 3]\n"
     ]
    }
   ],
   "source": [
    "print(l)"
   ]
  },
  {
   "cell_type": "code",
   "execution_count": null,
   "id": "7b353c00-75b1-43ae-8c79-44d9d3b7764c",
   "metadata": {},
   "outputs": [
    {
     "ename": "TypeError",
     "evalue": "'list' object is not callable",
     "output_type": "error",
     "traceback": [
      "\u001b[0;31m---------------------------------------------------------------------------\u001b[0m",
      "\u001b[0;31mTypeError\u001b[0m                                 Traceback (most recent call last)",
      "Cell \u001b[0;32mIn[9], line 1\u001b[0m\n\u001b[0;32m----> 1\u001b[0m \u001b[43ml\u001b[49m\u001b[43m(\u001b[49m\u001b[38;5;241;43m0\u001b[39;49m\u001b[43m)\u001b[49m\n",
      "\u001b[0;31mTypeError\u001b[0m: 'list' object is not callable"
     ]
    }
   ],
   "source": [
    "l(0)"
   ]
  },
  {
   "cell_type": "code",
   "execution_count": null,
   "id": "d9406839-3e75-4985-8700-18f9095a4892",
   "metadata": {},
   "outputs": [
    {
     "data": {
      "text/plain": [
       "'ram'"
      ]
     },
     "execution_count": 10,
     "metadata": {},
     "output_type": "execute_result"
    }
   ],
   "source": [
    "l[1]"
   ]
  },
  {
   "cell_type": "code",
   "execution_count": null,
   "id": "a9ee7144-51db-495e-b825-2dce7f7b9ca0",
   "metadata": {},
   "outputs": [
    {
     "ename": "IndexError",
     "evalue": "list index out of range",
     "output_type": "error",
     "traceback": [
      "\u001b[0;31m---------------------------------------------------------------------------\u001b[0m",
      "\u001b[0;31mIndexError\u001b[0m                                Traceback (most recent call last)",
      "Cell \u001b[0;32mIn[11], line 1\u001b[0m\n\u001b[0;32m----> 1\u001b[0m \u001b[43ml\u001b[49m\u001b[43m[\u001b[49m\u001b[38;5;241;43m6\u001b[39;49m\u001b[43m]\u001b[49m\n",
      "\u001b[0;31mIndexError\u001b[0m: list index out of range"
     ]
    }
   ],
   "source": [
    "l[6]"
   ]
  },
  {
   "cell_type": "code",
   "execution_count": null,
   "id": "0c6dbbb3-7f19-4252-ae03-125ca107873f",
   "metadata": {},
   "outputs": [],
   "source": [
    "s=\"ram\""
   ]
  },
  {
   "cell_type": "code",
   "execution_count": null,
   "id": "e453c680-b7c2-44bf-a6aa-594c07e20a43",
   "metadata": {},
   "outputs": [
    {
     "name": "stdout",
     "output_type": "stream",
     "text": [
      "ram\n"
     ]
    }
   ],
   "source": [
    "print(s)"
   ]
  },
  {
   "cell_type": "code",
   "execution_count": null,
   "id": "e891dd8b-8acb-4bfa-8a15-c9a726d56fd6",
   "metadata": {},
   "outputs": [
    {
     "data": {
      "text/plain": [
       "[]"
      ]
     },
     "execution_count": 14,
     "metadata": {},
     "output_type": "execute_result"
    }
   ],
   "source": [
    "l[2:2]"
   ]
  },
  {
   "cell_type": "code",
   "execution_count": null,
   "id": "b757de4b-6e76-4df6-ab87-132fbef93e7e",
   "metadata": {},
   "outputs": [
    {
     "data": {
      "text/plain": [
       "[1, 2]"
      ]
     },
     "execution_count": 15,
     "metadata": {},
     "output_type": "execute_result"
    }
   ],
   "source": [
    "l[::2]"
   ]
  },
  {
   "cell_type": "code",
   "execution_count": null,
   "id": "b537764f-9e8c-47dd-9ed8-ab9fc2625667",
   "metadata": {},
   "outputs": [
    {
     "data": {
      "text/plain": [
       "[1, 'ram', 2, 3]"
      ]
     },
     "execution_count": 16,
     "metadata": {},
     "output_type": "execute_result"
    }
   ],
   "source": [
    "l"
   ]
  },
  {
   "cell_type": "code",
   "execution_count": null,
   "id": "be6d835e-29e6-4c31-97d1-328c78ae366f",
   "metadata": {},
   "outputs": [],
   "source": [
    "s = \"skills\""
   ]
  },
  {
   "cell_type": "code",
   "execution_count": null,
   "id": "5172978d-f409-4328-89c2-3e16c2765ac9",
   "metadata": {},
   "outputs": [
    {
     "ename": "TypeError",
     "evalue": "can only concatenate list (not \"str\") to list",
     "output_type": "error",
     "traceback": [
      "\u001b[0;31m---------------------------------------------------------------------------\u001b[0m",
      "\u001b[0;31mTypeError\u001b[0m                                 Traceback (most recent call last)",
      "Cell \u001b[0;32mIn[18], line 1\u001b[0m\n\u001b[0;32m----> 1\u001b[0m \u001b[43ml\u001b[49m\u001b[38;5;241;43m+\u001b[39;49m\u001b[43ms\u001b[49m\n",
      "\u001b[0;31mTypeError\u001b[0m: can only concatenate list (not \"str\") to list"
     ]
    }
   ],
   "source": [
    "l+s"
   ]
  },
  {
   "cell_type": "code",
   "execution_count": null,
   "id": "5228e4f4-560c-42ce-abfe-59e60c700868",
   "metadata": {},
   "outputs": [
    {
     "ename": "TypeError",
     "evalue": "can't multiply sequence by non-int of type 'str'",
     "output_type": "error",
     "traceback": [
      "\u001b[0;31m---------------------------------------------------------------------------\u001b[0m",
      "\u001b[0;31mTypeError\u001b[0m                                 Traceback (most recent call last)",
      "Cell \u001b[0;32mIn[19], line 1\u001b[0m\n\u001b[0;32m----> 1\u001b[0m \u001b[43ml\u001b[49m\u001b[38;5;241;43m*\u001b[39;49m\u001b[43ms\u001b[49m\n",
      "\u001b[0;31mTypeError\u001b[0m: can't multiply sequence by non-int of type 'str'"
     ]
    }
   ],
   "source": [
    "l*s"
   ]
  },
  {
   "cell_type": "code",
   "execution_count": null,
   "id": "07697a83-1158-4709-8170-b4fe738f63e5",
   "metadata": {},
   "outputs": [
    {
     "data": {
      "text/plain": [
       "['s', 'k', 'i', 'l', 'l', 's', 1, 'ram', 2, 3]"
      ]
     },
     "execution_count": 22,
     "metadata": {},
     "output_type": "execute_result"
    }
   ],
   "source": [
    "list(s)+l"
   ]
  },
  {
   "cell_type": "code",
   "execution_count": null,
   "id": "10892cab-4b61-4006-af08-244f9c03e084",
   "metadata": {},
   "outputs": [
    {
     "ename": "TypeError",
     "evalue": "can only concatenate str (not \"list\") to str",
     "output_type": "error",
     "traceback": [
      "\u001b[0;31m---------------------------------------------------------------------------\u001b[0m",
      "\u001b[0;31mTypeError\u001b[0m                                 Traceback (most recent call last)",
      "Cell \u001b[0;32mIn[21], line 1\u001b[0m\n\u001b[0;32m----> 1\u001b[0m \u001b[43ms\u001b[49m\u001b[38;5;241;43m+\u001b[39;49m\u001b[43ml\u001b[49m\n",
      "\u001b[0;31mTypeError\u001b[0m: can only concatenate str (not \"list\") to str"
     ]
    }
   ],
   "source": [
    "s+l"
   ]
  },
  {
   "cell_type": "code",
   "execution_count": null,
   "id": "4c438232-49a6-4941-a36d-7dde56833240",
   "metadata": {},
   "outputs": [
    {
     "data": {
      "text/plain": [
       "'ra'"
      ]
     },
     "execution_count": 26,
     "metadata": {},
     "output_type": "execute_result"
    }
   ],
   "source": [
    "l[1][0:2]"
   ]
  },
  {
   "cell_type": "code",
   "execution_count": null,
   "id": "9a009d61-6eb1-4269-9019-603f1003b401",
   "metadata": {},
   "outputs": [],
   "source": [
    "d={}"
   ]
  },
  {
   "cell_type": "code",
   "execution_count": null,
   "id": "285f1b9f-f6bf-41f1-bc1e-09e10b91f0aa",
   "metadata": {},
   "outputs": [
    {
     "data": {
      "text/plain": [
       "dict"
      ]
     },
     "execution_count": 2,
     "metadata": {},
     "output_type": "execute_result"
    }
   ],
   "source": [
    "type(d)"
   ]
  },
  {
   "cell_type": "code",
   "execution_count": 11,
   "id": "19899259-a91a-4d7e-a6f3-692bad048328",
   "metadata": {},
   "outputs": [],
   "source": [
    "d1={\"key\" :\"Ram\" }"
   ]
  },
  {
   "cell_type": "code",
   "execution_count": null,
   "id": "90466f99-d860-4322-8051-07cb7fe1f889",
   "metadata": {},
   "outputs": [],
   "source": []
  },
  {
   "cell_type": "code",
   "execution_count": 12,
   "id": "a8e3947c-9e6f-4699-83e5-b21694940de8",
   "metadata": {},
   "outputs": [
    {
     "data": {
      "text/plain": [
       "{'key': 'Ram'}"
      ]
     },
     "execution_count": 12,
     "metadata": {},
     "output_type": "execute_result"
    }
   ],
   "source": [
    "d1"
   ]
  },
  {
   "cell_type": "code",
   "execution_count": 15,
   "id": "a5a193cf-03af-4a76-bc7e-b229bf98dd14",
   "metadata": {},
   "outputs": [
    {
     "data": {
      "text/plain": [
       "'key'"
      ]
     },
     "execution_count": 15,
     "metadata": {},
     "output_type": "execute_result"
    }
   ],
   "source": [
    "\"key\""
   ]
  },
  {
   "cell_type": "code",
   "execution_count": 16,
   "id": "dc1b311e-882f-4038-bbae-34b0660ee986",
   "metadata": {},
   "outputs": [
    {
     "data": {
      "text/plain": [
       "'Ram'"
      ]
     },
     "execution_count": 16,
     "metadata": {},
     "output_type": "execute_result"
    }
   ],
   "source": [
    "d1['key']"
   ]
  },
  {
   "cell_type": "code",
   "execution_count": 22,
   "id": "b9df9dbe-5f92-4588-b577-a3b44837beec",
   "metadata": {},
   "outputs": [
    {
     "ename": "KeyError",
     "evalue": "5",
     "output_type": "error",
     "traceback": [
      "\u001b[0;31m---------------------------------------------------------------------------\u001b[0m",
      "\u001b[0;31mKeyError\u001b[0m                                  Traceback (most recent call last)",
      "Cell \u001b[0;32mIn[22], line 1\u001b[0m\n\u001b[0;32m----> 1\u001b[0m \u001b[43md1\u001b[49m\u001b[43m[\u001b[49m\u001b[38;5;241;43m5\u001b[39;49m\u001b[43m]\u001b[49m\n",
      "\u001b[0;31mKeyError\u001b[0m: 5"
     ]
    }
   ],
   "source": [
    "d1[5]"
   ]
  },
  {
   "cell_type": "code",
   "execution_count": 19,
   "id": "47b015bd-dee7-4b41-bd9d-01ac11843509",
   "metadata": {},
   "outputs": [
    {
     "data": {
      "text/plain": [
       "{'key': 'Ram'}"
      ]
     },
     "execution_count": 19,
     "metadata": {},
     "output_type": "execute_result"
    }
   ],
   "source": [
    "d1\n"
   ]
  },
  {
   "cell_type": "code",
   "execution_count": 27,
   "id": "07d9dd37-b7a8-4b3b-bf89-d1a462ef54df",
   "metadata": {},
   "outputs": [],
   "source": [
    "d4 = {\"name\":\"sauth\",\"ram\":\"rat\",\"name\":\"sai\"}"
   ]
  },
  {
   "cell_type": "code",
   "execution_count": 28,
   "id": "fa89c193-44ec-4abc-94bb-dd14bdd71b1e",
   "metadata": {},
   "outputs": [
    {
     "data": {
      "text/plain": [
       "'sai'"
      ]
     },
     "execution_count": 28,
     "metadata": {},
     "output_type": "execute_result"
    }
   ],
   "source": [
    "d4['name']"
   ]
  },
  {
   "cell_type": "code",
   "execution_count": 30,
   "id": "4a04c1e1-d350-44a1-a5f7-dca804ed7a82",
   "metadata": {},
   "outputs": [],
   "source": [
    "d5  ={'company':'pwskill','course':['computer scenince','civil','eloctonce']}"
   ]
  },
  {
   "cell_type": "code",
   "execution_count": 32,
   "id": "e122cbfd-1540-4d93-8ecf-89267ed4a9db",
   "metadata": {},
   "outputs": [
    {
     "data": {
      "text/plain": [
       "['computer scenince', 'civil', 'eloctonce']"
      ]
     },
     "execution_count": 32,
     "metadata": {},
     "output_type": "execute_result"
    }
   ],
   "source": [
    "d5['course']"
   ]
  },
  {
   "cell_type": "code",
   "execution_count": 35,
   "id": "5cb7b929-1f80-416f-b985-a8dcf95f092e",
   "metadata": {},
   "outputs": [],
   "source": [
    "d5['menter']= ['sia','saiaram','ram']"
   ]
  },
  {
   "cell_type": "code",
   "execution_count": 36,
   "id": "0eb60b01-d134-496f-b216-dd84ccdbeb07",
   "metadata": {},
   "outputs": [
    {
     "data": {
      "text/plain": [
       "{'company': 'pwskill',\n",
       " 'course': ['computer scenince', 'civil', 'eloctonce'],\n",
       " 'menter': ['sia', 'saiaram', 'ram']}"
      ]
     },
     "execution_count": 36,
     "metadata": {},
     "output_type": "execute_result"
    }
   ],
   "source": [
    "d5"
   ]
  },
  {
   "cell_type": "code",
   "execution_count": 40,
   "id": "f891db20-5f06-42d3-819b-dfb96f59b20c",
   "metadata": {},
   "outputs": [
    {
     "data": {
      "text/plain": [
       "['company', 'course', 'menter']"
      ]
     },
     "execution_count": 40,
     "metadata": {},
     "output_type": "execute_result"
    }
   ],
   "source": [
    "list(d5.keys())"
   ]
  },
  {
   "cell_type": "code",
   "execution_count": 45,
   "id": "11d067ee-75cf-4990-aae0-bd7915f1d835",
   "metadata": {},
   "outputs": [
    {
     "data": {
      "text/plain": [
       "['pwskill',\n",
       " ['computer scenince', 'civil', 'eloctonce'],\n",
       " ['sia', 'saiaram', 'ram']]"
      ]
     },
     "execution_count": 45,
     "metadata": {},
     "output_type": "execute_result"
    }
   ],
   "source": [
    "list(d5.values())"
   ]
  },
  {
   "cell_type": "code",
   "execution_count": 47,
   "id": "ad8474b1-452e-4f8f-9397-2941143c4b9b",
   "metadata": {},
   "outputs": [
    {
     "data": {
      "text/plain": [
       "['sia', 'saiaram', 'ram']"
      ]
     },
     "execution_count": 47,
     "metadata": {},
     "output_type": "execute_result"
    }
   ],
   "source": [
    "d5.pop(\"menter\")"
   ]
  },
  {
   "cell_type": "code",
   "execution_count": 52,
   "id": "17c771c7-8154-4483-864c-67aabcb411af",
   "metadata": {},
   "outputs": [
    {
     "data": {
      "text/plain": [
       "{'company': 'pwskill', 'course': ['computer scenince', 'civil', 'eloctonce']}"
      ]
     },
     "execution_count": 52,
     "metadata": {},
     "output_type": "execute_result"
    }
   ],
   "source": [
    "d5"
   ]
  },
  {
   "cell_type": "code",
   "execution_count": 74,
   "id": "5e2ef7fe-bd7c-447b-a1ac-c5ca08edc348",
   "metadata": {},
   "outputs": [
    {
     "name": "stdin",
     "output_type": "stream",
     "text": [
      "Enter your marks 60\n"
     ]
    },
    {
     "name": "stdout",
     "output_type": "stream",
     "text": [
      "you will be a part of A1 batch\n",
      "Thanks\n"
     ]
    }
   ],
   "source": [
    " marks = iint(input (\"Enter your marks\"))\n",
    "if marks >= 80:\n",
    "     print (\"yow will be a part of A0 batch\")\n",
    "elif marks >= 60 and marks< 80:\n",
    "    print(\"you will be a part of A1 batch\") \n",
    "else  :\n",
    "        print(\"you will be part of A2 batch\")\n",
    "print (\"Thanks\")"
   ]
  },
  {
   "cell_type": "code",
   "execution_count": 77,
   "id": "332a1224-f859-4760-b399-fd6386384ada",
   "metadata": {},
   "outputs": [
    {
     "ename": "SyntaxError",
     "evalue": "expected ':' (3243833845.py, line 1)",
     "output_type": "error",
     "traceback": [
      "\u001b[0;36m  Cell \u001b[0;32mIn[77], line 1\u001b[0;36m\u001b[0m\n\u001b[0;31m    if price > 1000\u001b[0m\n\u001b[0m                   ^\u001b[0m\n\u001b[0;31mSyntaxError\u001b[0m\u001b[0;31m:\u001b[0m expected ':'\n"
     ]
    }
   ],
   "source": [
    "if price > 1000"
   ]
  },
  {
   "cell_type": "code",
   "execution_count": 79,
   "id": "54574a53-73b4-43f4-bd6b-6f4a8282ffaa",
   "metadata": {},
   "outputs": [],
   "source": [
    "l= [1,2]\n"
   ]
  },
  {
   "cell_type": "code",
   "execution_count": 80,
   "id": "64989c20-58cc-432b-83f5-7599dc94bd96",
   "metadata": {},
   "outputs": [
    {
     "ename": "TypeError",
     "evalue": "can only concatenate list (not \"int\") to list",
     "output_type": "error",
     "traceback": [
      "\u001b[0;31m---------------------------------------------------------------------------\u001b[0m",
      "\u001b[0;31mTypeError\u001b[0m                                 Traceback (most recent call last)",
      "Cell \u001b[0;32mIn[80], line 1\u001b[0m\n\u001b[0;32m----> 1\u001b[0m \u001b[43ml\u001b[49m\u001b[38;5;241;43m+\u001b[39;49m\u001b[38;5;241;43m1\u001b[39;49m\n",
      "\u001b[0;31mTypeError\u001b[0m: can only concatenate list (not \"int\") to list"
     ]
    }
   ],
   "source": [
    "l+1\n"
   ]
  },
  {
   "cell_type": "code",
   "execution_count": 82,
   "id": "5139d173-49d8-48e5-bef3-22494c0e986b",
   "metadata": {},
   "outputs": [
    {
     "data": {
      "text/plain": [
       "2"
      ]
     },
     "execution_count": 82,
     "metadata": {},
     "output_type": "execute_result"
    }
   ],
   "source": [
    "# l[0]+1"
   ]
  },
  {
   "cell_type": "code",
   "execution_count": 83,
   "id": "52213a6d-b995-4399-8ad2-c622f2ebf13d",
   "metadata": {},
   "outputs": [],
   "source": [
    "l1 = []"
   ]
  },
  {
   "cell_type": "code",
   "execution_count": 90,
   "id": "b1b22fe8-738e-4faa-9261-0c5e702e4a74",
   "metadata": {},
   "outputs": [],
   "source": [
    "l1.append(l[0]+1)"
   ]
  },
  {
   "cell_type": "code",
   "execution_count": 91,
   "id": "311bf5e8-6d85-4cd2-aba8-1e038dc7b1a5",
   "metadata": {},
   "outputs": [
    {
     "data": {
      "text/plain": [
       "[2, 2, 2, 2]"
      ]
     },
     "execution_count": 91,
     "metadata": {},
     "output_type": "execute_result"
    }
   ],
   "source": [
    "l1"
   ]
  },
  {
   "cell_type": "code",
   "execution_count": 107,
   "id": "27cc924e-2161-469f-a63d-515e97513f4a",
   "metadata": {},
   "outputs": [
    {
     "name": "stdout",
     "output_type": "stream",
     "text": [
      "2\n",
      "3\n"
     ]
    },
    {
     "data": {
      "text/plain": [
       "[2, 3]"
      ]
     },
     "execution_count": 107,
     "metadata": {},
     "output_type": "execute_result"
    }
   ],
   "source": [
    "l1=[]\n",
    "for r in l :\n",
    "    print(r+1)\n",
    "    l1.append(r+1)\n",
    "l1"
   ]
  },
  {
   "cell_type": "code",
   "execution_count": 108,
   "id": "b2ce1e99-2ace-4be5-8b7a-bc7f8787ddcb",
   "metadata": {},
   "outputs": [],
   "source": [
    "l=[\"south\", \"ram\", \"was\"]\n"
   ]
  },
  {
   "cell_type": "code",
   "execution_count": 7,
   "id": "cfc75ade-5a8a-4173-8189-4b7616aba4af",
   "metadata": {},
   "outputs": [],
   "source": [
    "l1=[]\n",
    "for i in l1:\n",
    "    print(i)\n",
    "    l1.append(i.upper())"
   ]
  },
  {
   "cell_type": "code",
   "execution_count": 112,
   "id": "35f10e8a-43ff-48e3-a5a6-0fd016b9d5c7",
   "metadata": {},
   "outputs": [
    {
     "data": {
      "text/plain": [
       "[2, 3, 'SOUTH', 'RAM', 'WAS']"
      ]
     },
     "execution_count": 112,
     "metadata": {},
     "output_type": "execute_result"
    }
   ],
   "source": [
    "l1"
   ]
  },
  {
   "cell_type": "code",
   "execution_count": 37,
   "id": "cf03c643-4cb4-47bf-a233-b5f8cf208a64",
   "metadata": {},
   "outputs": [],
   "source": [
    "l = [1,2,3,4,5,\"sunil\",\"ram\",32.5,\"ragu\"]"
   ]
  },
  {
   "cell_type": "code",
   "execution_count": 38,
   "id": "9c04290e-36d0-45c0-a602-a1c7cffa19c2",
   "metadata": {},
   "outputs": [],
   "source": [
    "l3_num = []\n",
    "l2_str = []\n",
    "for i in l :\n",
    "    if type(i) == int :\n",
    "        l3_num.append(i)\n",
    "    else :\n",
    "        l2_str.append(i)"
   ]
  },
  {
   "cell_type": "code",
   "execution_count": 39,
   "id": "7f7d985e-78f7-4ea8-bd00-27403cf23037",
   "metadata": {},
   "outputs": [
    {
     "data": {
      "text/plain": [
       "[1, 2, 3, 4, 5]"
      ]
     },
     "execution_count": 39,
     "metadata": {},
     "output_type": "execute_result"
    }
   ],
   "source": [
    "l3_num"
   ]
  },
  {
   "cell_type": "code",
   "execution_count": 40,
   "id": "d3ffe44c-2ab7-4ac3-b5eb-3af09d28c63a",
   "metadata": {},
   "outputs": [
    {
     "data": {
      "text/plain": [
       "['sunil', 'ram', 32.5, 'ragu']"
      ]
     },
     "execution_count": 40,
     "metadata": {},
     "output_type": "execute_result"
    }
   ],
   "source": [
    "l2_str"
   ]
  },
  {
   "cell_type": "code",
   "execution_count": null,
   "id": "5b9499cf-ff34-48ad-b139-21d5aaf95fe0",
   "metadata": {},
   "outputs": [],
   "source": []
  },
  {
   "cell_type": "code",
   "execution_count": null,
   "id": "0dc70bd8-f669-4fa6-bcab-33aa90c13bd1",
   "metadata": {},
   "outputs": [],
   "source": []
  }
 ],
 "metadata": {
  "kernelspec": {
   "display_name": "Python 3 (ipykernel)",
   "language": "python",
   "name": "python3"
  },
  "language_info": {
   "codemirror_mode": {
    "name": "ipython",
    "version": 3
   },
   "file_extension": ".py",
   "mimetype": "text/x-python",
   "name": "python",
   "nbconvert_exporter": "python",
   "pygments_lexer": "ipython3",
   "version": "3.10.8"
  }
 },
 "nbformat": 4,
 "nbformat_minor": 5
}
